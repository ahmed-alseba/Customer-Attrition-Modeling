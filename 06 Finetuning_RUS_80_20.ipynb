{
 "cells": [
  {
   "cell_type": "code",
   "execution_count": 1,
   "metadata": {},
   "outputs": [],
   "source": [
    "import pandas as pd\n",
    "import numpy as np\n",
    "import seaborn as sns\n",
    "\n",
    "from sklearn.model_selection import train_test_split\n",
    "\n",
    "from sklearn.dummy import DummyClassifier\n",
    "from sklearn.naive_bayes import GaussianNB\n",
    "from sklearn.svm import LinearSVC\n",
    "from sklearn.svm import SVC\n",
    "from sklearn.linear_model import LogisticRegression\n",
    "from sklearn.ensemble import RandomForestClassifier\n",
    "from sklearn.ensemble import AdaBoostClassifier\n",
    "from sklearn.ensemble import GradientBoostingClassifier\n",
    "from sklearn.neighbors import KNeighborsClassifier\n",
    "from sklearn.experimental import enable_hist_gradient_boosting\n",
    "from sklearn.ensemble import HistGradientBoostingClassifier\n",
    "from sklearn.tree import DecisionTreeClassifier\n",
    "\n",
    "from sklearn.metrics import matthews_corrcoef\n",
    "from sklearn.metrics import accuracy_score\n",
    "from sklearn.metrics import f1_score\n",
    "from sklearn.metrics import confusion_matrix\n",
    "\n",
    "pd.set_option('display.max_rows', 100)\n",
    "pd.set_option('display.max_columns', 100)"
   ]
  },
  {
   "cell_type": "markdown",
   "metadata": {},
   "source": [
    "### Features Data Types"
   ]
  },
  {
   "cell_type": "code",
   "execution_count": 2,
   "metadata": {},
   "outputs": [],
   "source": [
    "column_types_X = {'z_age': 'float64', 'z_census_household_1p_pct': 'float64', 'z_census_education_high_pct': 'float64', \n",
    "                'z_census_purchase_household': 'float64', 'z_census_purchase_capita': 'float64', \n",
    "                'z_census_household_cnt': 'float64', 'multiplay_cnt': 'float64', 'z_line_cnt': 'float64', \n",
    "                'z_sim_cnt': 'float64', 'fixed_prod_cat1_ind': 'float64', 'tenure_fixed_month': 'float64', \n",
    "                'tenure_mobile_month': 'float64', 'z_line_voice_cat1_cnt': 'float64', 'fixed_data_cat1_ind': 'float64', \n",
    "                'fixed_data_cat2_ind': 'float64', 'z_fixed_prod_cat2_cnt': 'float64', 'z_fixed_prod_cat1_cnt': 'float64', \n",
    "                'z_fixed_data_cat3_cnt': 'float64', 'fixed_prod_cat3_cnt': 'float64', 'device_smartphone_cnt': 'float64', \n",
    "                'z_mobile_voice_cat1_cnt': 'float64', 'z_mobile_data_cat1_cnt': 'float64', 'mobile_data_cat2_cnt': 'float64', \n",
    "                'z_mobile_voice_cat3_cnt': 'float64', 'z_mobile_data_cat3_cnt': 'float64', 'z_usg_fv_3m_avg': 'float64', \n",
    "                'z_usg_fd_mb_1m_sum': 'float64', 'z_usg_fd_mb_3m_avg': 'float64', 'z_usg_mv_ib_a_3m_avg': 'float64', \n",
    "                'z_usg_md_sms_ib_a_3m_avg': 'float64', 'z_usg_md_ib_mb_3m_avg': 'float64', \n",
    "                'payment_method_cash_cnt': 'float64', 'z_rev_1m_sum': 'float64', 'z_device_netcube_cnt': 'float64', \n",
    "                'z_tariff_netcube_cnt': 'float64', 'z_min_Prog_Max_BB_Down': 'float64', 'z_line_Fib2h_CNT': 'float64', \n",
    "                'z_min_Speed_Product_KBit': 'float64', 'z_Max_Speed_Missing_KBit': 'float64', \n",
    "                'z_Min_Speed_Reserve_KBit': 'float64', 'z_Max_DSL_OOS_PCT': 'float64', 'z_PR_Relocation_CNT': 'float64', \n",
    "                'z_PR_Relocation_Days': 'float64', 'z_PR_ActivationSupportOpt_CNT': 'float64', \n",
    "                'z_PR_ActivationSupportOpt_Days': 'float64', 'z_PR_DeactivationThreat_CNT': 'float64', \n",
    "                'z_PR_DeactivationSupport_CNT': 'float64', 'z_PR_DeactivationProdOpt_CNT': 'float64', \n",
    "                'z_PR_DeactivationProdOpt_Days': 'float64', 'z_PR_OtherWOTopic_CNT': 'float64', \n",
    "                'z_PR_OtherWOTopic_Days': 'float64', 'z_PR_AddressChange_CNT': 'float64', \n",
    "                'z_PR_AddressChange_Days': 'float64', 'z_PR_ServiceDisruption_CNT': 'float64', \n",
    "                'z_PR_ServiceDisruption_Days': 'float64', 'z_PR_BasketSupport_CNT': 'float64', \n",
    "                'z_PR_BasketSupport_Days': 'float64', 'z_PR_SellingSalesSupport_CNT': 'float64', \n",
    "                'z_PR_SellingSalesSupport_Days': 'float64', 'z_PR_DigitalUsage_CNT': 'float64', \n",
    "                'z_PR_DigitalUsage_Days': 'float64', 'z_TNPS_Last_Days': 'float64', 'z_TNPS_Score_Avg': 'float64', \n",
    "                'province_cd_A': 'float64', 'province_cd_B': 'float64', 'province_cd_C': 'float64', \n",
    "                'province_cd_D': 'float64', 'province_cd_E': 'float64', 'province_cd_F': 'float64', 'province_cd_G': 'float64', \n",
    "                'province_cd_H': 'float64', 'province_cd_I': 'float64', 'Gender_CD_F': 'float64', \n",
    "                'prod_monodual_cd_D': 'float64', 'customer_value_cd_cat': 'float64'}\n",
    "\n",
    "column_types_y = {'target_ind': 'float64'}"
   ]
  },
  {
   "cell_type": "markdown",
   "metadata": {},
   "source": [
    "### Load Data"
   ]
  },
  {
   "cell_type": "code",
   "execution_count": 3,
   "metadata": {},
   "outputs": [],
   "source": [
    "X_train = pd.read_csv('X_train.csv', dtype=column_types_X)\n",
    "y_train = pd.read_csv('y_train.csv', dtype=column_types_y)\n",
    "X_train['target_ind'] = y_train['target_ind']\n",
    "\n",
    "X_val = pd.read_csv('X_val.csv', dtype=column_types_X)\n",
    "y_val = pd.read_csv('y_val.csv', dtype=column_types_y)"
   ]
  },
  {
   "cell_type": "markdown",
   "metadata": {},
   "source": [
    "### 80:20 Upsampling of Minority Class"
   ]
  },
  {
   "cell_type": "code",
   "execution_count": 4,
   "metadata": {},
   "outputs": [],
   "source": [
    "# Seperate dataset by class\n",
    "df_minority  = X_train[X_train['target_ind']==1]\n",
    "df_majority = X_train[X_train['target_ind']==0]\n",
    "\n",
    "# Upsample minority class\n",
    "df_minority = df_minority.sample(n=int(0.25*len(df_majority)), replace=True)\n",
    "\n",
    "# Merge the two classes into one dataset\n",
    "df = pd.concat([df_majority,df_minority])\n",
    "\n",
    "# Shuffle the dataset\n",
    "df = df.sample(frac=1)\n",
    "X_df = df.drop(['target_ind'], axis=1)\n",
    "y_df = df[['target_ind']]\n",
    "\n",
    "X_train = X_train.drop(['target_ind'], axis=1)"
   ]
  },
  {
   "cell_type": "markdown",
   "metadata": {},
   "source": [
    "#### Random Forest (Unweighted Classes - 100 Estimators, 1 Feature)"
   ]
  },
  {
   "cell_type": "code",
   "execution_count": 5,
   "metadata": {},
   "outputs": [
    {
     "data": {
      "text/plain": [
       "RandomForestClassifier(max_features=1, n_jobs=-1)"
      ]
     },
     "execution_count": 5,
     "metadata": {},
     "output_type": "execute_result"
    }
   ],
   "source": [
    "rfc = RandomForestClassifier(n_jobs=-1, n_estimators=100, max_features=1)\n",
    "rfc.fit(X_df, y_df['target_ind'])"
   ]
  },
  {
   "cell_type": "code",
   "execution_count": 6,
   "metadata": {},
   "outputs": [
    {
     "name": "stdout",
     "output_type": "stream",
     "text": [
      "Training MCC: 1.0\n",
      "Validation MCC: 0.4727837067771322\n"
     ]
    }
   ],
   "source": [
    "print(\"Training MCC: \" + str(matthews_corrcoef(y_df['target_ind'], rfc.predict(X_df))))\n",
    "print(\"Validation MCC: \" + str(matthews_corrcoef(y_val['target_ind'], rfc.predict(X_val))))"
   ]
  },
  {
   "cell_type": "markdown",
   "metadata": {},
   "source": [
    "#### Random Forest (Unweighted Classes - 100 Estimators, 2 Features)"
   ]
  },
  {
   "cell_type": "code",
   "execution_count": 7,
   "metadata": {},
   "outputs": [
    {
     "data": {
      "text/plain": [
       "RandomForestClassifier(max_features=2, n_jobs=-1)"
      ]
     },
     "execution_count": 7,
     "metadata": {},
     "output_type": "execute_result"
    }
   ],
   "source": [
    "rfc = RandomForestClassifier(n_jobs=-1, n_estimators=100, max_features=2)\n",
    "rfc.fit(X_df, y_df['target_ind'])"
   ]
  },
  {
   "cell_type": "code",
   "execution_count": 8,
   "metadata": {},
   "outputs": [
    {
     "name": "stdout",
     "output_type": "stream",
     "text": [
      "Training MCC: 1.0\n",
      "Validation MCC: 0.47263501762864085\n"
     ]
    }
   ],
   "source": [
    "print(\"Training MCC: \" + str(matthews_corrcoef(y_df['target_ind'], rfc.predict(X_df))))\n",
    "print(\"Validation MCC: \" + str(matthews_corrcoef(y_val['target_ind'], rfc.predict(X_val))))"
   ]
  },
  {
   "cell_type": "markdown",
   "metadata": {},
   "source": [
    "#### Random Forest (Unweighted Classes - 100 Estimators, 3 Features)"
   ]
  },
  {
   "cell_type": "code",
   "execution_count": 9,
   "metadata": {},
   "outputs": [
    {
     "data": {
      "text/plain": [
       "RandomForestClassifier(max_features=3, n_jobs=-1)"
      ]
     },
     "execution_count": 9,
     "metadata": {},
     "output_type": "execute_result"
    }
   ],
   "source": [
    "rfc = RandomForestClassifier(n_jobs=-1, n_estimators=100, max_features=3)\n",
    "rfc.fit(X_df, y_df['target_ind'])"
   ]
  },
  {
   "cell_type": "code",
   "execution_count": 10,
   "metadata": {},
   "outputs": [
    {
     "name": "stdout",
     "output_type": "stream",
     "text": [
      "Training MCC: 1.0\n",
      "Validation MCC: 0.4705722110796282\n"
     ]
    }
   ],
   "source": [
    "print(\"Training MCC: \" + str(matthews_corrcoef(y_df['target_ind'], rfc.predict(X_df))))\n",
    "print(\"Validation MCC: \" + str(matthews_corrcoef(y_val['target_ind'], rfc.predict(X_val))))"
   ]
  },
  {
   "cell_type": "markdown",
   "metadata": {},
   "source": [
    "#### Random Forest (Unweighted Classes - 100 Estimators, 4 Features)"
   ]
  },
  {
   "cell_type": "code",
   "execution_count": 11,
   "metadata": {},
   "outputs": [
    {
     "data": {
      "text/plain": [
       "RandomForestClassifier(max_features=4, n_jobs=-1)"
      ]
     },
     "execution_count": 11,
     "metadata": {},
     "output_type": "execute_result"
    }
   ],
   "source": [
    "rfc = RandomForestClassifier(n_jobs=-1, n_estimators=100, max_features=4)\n",
    "rfc.fit(X_df, y_df['target_ind'])"
   ]
  },
  {
   "cell_type": "code",
   "execution_count": 12,
   "metadata": {},
   "outputs": [
    {
     "name": "stdout",
     "output_type": "stream",
     "text": [
      "Training MCC: 1.0\n",
      "Validation MCC: 0.46834085438749967\n"
     ]
    }
   ],
   "source": [
    "print(\"Training MCC: \" + str(matthews_corrcoef(y_df['target_ind'], rfc.predict(X_df))))\n",
    "print(\"Validation MCC: \" + str(matthews_corrcoef(y_val['target_ind'], rfc.predict(X_val))))"
   ]
  },
  {
   "cell_type": "markdown",
   "metadata": {},
   "source": [
    "#### Random Forest (Unweighted Classes - 100 Estimators, 5 Features)"
   ]
  },
  {
   "cell_type": "code",
   "execution_count": 13,
   "metadata": {},
   "outputs": [
    {
     "data": {
      "text/plain": [
       "RandomForestClassifier(max_features=5, n_jobs=-1)"
      ]
     },
     "execution_count": 13,
     "metadata": {},
     "output_type": "execute_result"
    }
   ],
   "source": [
    "rfc = RandomForestClassifier(n_jobs=-1, n_estimators=100, max_features=5)\n",
    "rfc.fit(X_df, y_df['target_ind'])"
   ]
  },
  {
   "cell_type": "code",
   "execution_count": 14,
   "metadata": {},
   "outputs": [
    {
     "name": "stdout",
     "output_type": "stream",
     "text": [
      "Training MCC: 1.0\n",
      "Validation MCC: 0.4656411987569379\n"
     ]
    }
   ],
   "source": [
    "print(\"Training MCC: \" + str(matthews_corrcoef(y_df['target_ind'], rfc.predict(X_df))))\n",
    "print(\"Validation MCC: \" + str(matthews_corrcoef(y_val['target_ind'], rfc.predict(X_val))))"
   ]
  },
  {
   "cell_type": "markdown",
   "metadata": {},
   "source": [
    "#### Random Forest (Unweighted Classes - 100 Estimators, 6 Features)"
   ]
  },
  {
   "cell_type": "code",
   "execution_count": 15,
   "metadata": {},
   "outputs": [
    {
     "data": {
      "text/plain": [
       "RandomForestClassifier(max_features=6, n_jobs=-1)"
      ]
     },
     "execution_count": 15,
     "metadata": {},
     "output_type": "execute_result"
    }
   ],
   "source": [
    "rfc = RandomForestClassifier(n_jobs=-1, n_estimators=100, max_features=6)\n",
    "rfc.fit(X_df, y_df['target_ind'])"
   ]
  },
  {
   "cell_type": "code",
   "execution_count": 16,
   "metadata": {},
   "outputs": [
    {
     "name": "stdout",
     "output_type": "stream",
     "text": [
      "Training MCC: 1.0\n",
      "Validation MCC: 0.4710733446079685\n"
     ]
    }
   ],
   "source": [
    "print(\"Training MCC: \" + str(matthews_corrcoef(y_df['target_ind'], rfc.predict(X_df))))\n",
    "print(\"Validation MCC: \" + str(matthews_corrcoef(y_val['target_ind'], rfc.predict(X_val))))"
   ]
  },
  {
   "cell_type": "markdown",
   "metadata": {},
   "source": [
    "#### Random Forest (Unweighted Classes - 100 Estimators, 7 Features)"
   ]
  },
  {
   "cell_type": "code",
   "execution_count": 17,
   "metadata": {},
   "outputs": [
    {
     "data": {
      "text/plain": [
       "RandomForestClassifier(max_features=7, n_jobs=-1)"
      ]
     },
     "execution_count": 17,
     "metadata": {},
     "output_type": "execute_result"
    }
   ],
   "source": [
    "rfc = RandomForestClassifier(n_jobs=-1, n_estimators=100, max_features=7)\n",
    "rfc.fit(X_df, y_df['target_ind'])"
   ]
  },
  {
   "cell_type": "code",
   "execution_count": 18,
   "metadata": {},
   "outputs": [
    {
     "name": "stdout",
     "output_type": "stream",
     "text": [
      "Training MCC: 1.0\n",
      "Validation MCC: 0.46829136884441847\n"
     ]
    }
   ],
   "source": [
    "print(\"Training MCC: \" + str(matthews_corrcoef(y_df['target_ind'], rfc.predict(X_df))))\n",
    "print(\"Validation MCC: \" + str(matthews_corrcoef(y_val['target_ind'], rfc.predict(X_val))))"
   ]
  },
  {
   "cell_type": "markdown",
   "metadata": {},
   "source": [
    "#### Random Forest (Unweighted Classes - 100 Estimators, 8 Features)"
   ]
  },
  {
   "cell_type": "code",
   "execution_count": 19,
   "metadata": {},
   "outputs": [
    {
     "data": {
      "text/plain": [
       "RandomForestClassifier(max_features=8, n_jobs=-1)"
      ]
     },
     "execution_count": 19,
     "metadata": {},
     "output_type": "execute_result"
    }
   ],
   "source": [
    "rfc = RandomForestClassifier(n_jobs=-1, n_estimators=100, max_features=8)\n",
    "rfc.fit(X_df, y_df['target_ind'])"
   ]
  },
  {
   "cell_type": "code",
   "execution_count": 20,
   "metadata": {},
   "outputs": [
    {
     "name": "stdout",
     "output_type": "stream",
     "text": [
      "Training MCC: 1.0\n",
      "Validation MCC: 0.4716227122684182\n"
     ]
    }
   ],
   "source": [
    "print(\"Training MCC: \" + str(matthews_corrcoef(y_df['target_ind'], rfc.predict(X_df))))\n",
    "print(\"Validation MCC: \" + str(matthews_corrcoef(y_val['target_ind'], rfc.predict(X_val))))"
   ]
  },
  {
   "cell_type": "markdown",
   "metadata": {},
   "source": [
    "#### Random Forest (Unweighted Classes - 100 Estimators, 9 Features)"
   ]
  },
  {
   "cell_type": "code",
   "execution_count": 21,
   "metadata": {},
   "outputs": [
    {
     "data": {
      "text/plain": [
       "RandomForestClassifier(max_features=9, n_jobs=-1)"
      ]
     },
     "execution_count": 21,
     "metadata": {},
     "output_type": "execute_result"
    }
   ],
   "source": [
    "rfc = RandomForestClassifier(n_jobs=-1, n_estimators=100, max_features=9)\n",
    "rfc.fit(X_df, y_df['target_ind'])"
   ]
  },
  {
   "cell_type": "code",
   "execution_count": 22,
   "metadata": {},
   "outputs": [
    {
     "name": "stdout",
     "output_type": "stream",
     "text": [
      "Training MCC: 1.0\n",
      "Validation MCC: 0.473895267347791\n"
     ]
    }
   ],
   "source": [
    "print(\"Training MCC: \" + str(matthews_corrcoef(y_df['target_ind'], rfc.predict(X_df))))\n",
    "print(\"Validation MCC: \" + str(matthews_corrcoef(y_val['target_ind'], rfc.predict(X_val))))"
   ]
  },
  {
   "cell_type": "markdown",
   "metadata": {},
   "source": [
    "#### Random Forest (Unweighted Classes - 100 Estimators, 10 Features)"
   ]
  },
  {
   "cell_type": "code",
   "execution_count": 23,
   "metadata": {},
   "outputs": [
    {
     "data": {
      "text/plain": [
       "RandomForestClassifier(max_features=10, n_jobs=-1)"
      ]
     },
     "execution_count": 23,
     "metadata": {},
     "output_type": "execute_result"
    }
   ],
   "source": [
    "rfc = RandomForestClassifier(n_jobs=-1, n_estimators=100, max_features=10)\n",
    "rfc.fit(X_df, y_df['target_ind'])"
   ]
  },
  {
   "cell_type": "code",
   "execution_count": 24,
   "metadata": {},
   "outputs": [
    {
     "name": "stdout",
     "output_type": "stream",
     "text": [
      "Training MCC: 1.0\n",
      "Validation MCC: 0.47745274693969675\n"
     ]
    }
   ],
   "source": [
    "print(\"Training MCC: \" + str(matthews_corrcoef(y_df['target_ind'], rfc.predict(X_df))))\n",
    "print(\"Validation MCC: \" + str(matthews_corrcoef(y_val['target_ind'], rfc.predict(X_val))))"
   ]
  },
  {
   "cell_type": "markdown",
   "metadata": {},
   "source": [
    "#### Random Forest (Unweighted Classes - 100 Estimators, 20 Features)"
   ]
  },
  {
   "cell_type": "code",
   "execution_count": 25,
   "metadata": {},
   "outputs": [
    {
     "data": {
      "text/plain": [
       "RandomForestClassifier(max_features=20, n_jobs=-1)"
      ]
     },
     "execution_count": 25,
     "metadata": {},
     "output_type": "execute_result"
    }
   ],
   "source": [
    "rfc = RandomForestClassifier(n_jobs=-1, n_estimators=100, max_features=20)\n",
    "rfc.fit(X_df, y_df['target_ind'])"
   ]
  },
  {
   "cell_type": "code",
   "execution_count": 26,
   "metadata": {},
   "outputs": [
    {
     "name": "stdout",
     "output_type": "stream",
     "text": [
      "Training MCC: 1.0\n",
      "Validation MCC: 0.48972738073271244\n"
     ]
    }
   ],
   "source": [
    "print(\"Training MCC: \" + str(matthews_corrcoef(y_df['target_ind'], rfc.predict(X_df))))\n",
    "print(\"Validation MCC: \" + str(matthews_corrcoef(y_val['target_ind'], rfc.predict(X_val))))"
   ]
  },
  {
   "cell_type": "markdown",
   "metadata": {},
   "source": [
    "#### Random Forest (Unweighted Classes - 100 Estimators, 30 Features)"
   ]
  },
  {
   "cell_type": "code",
   "execution_count": 27,
   "metadata": {},
   "outputs": [
    {
     "data": {
      "text/plain": [
       "RandomForestClassifier(max_features=30, n_jobs=-1)"
      ]
     },
     "execution_count": 27,
     "metadata": {},
     "output_type": "execute_result"
    }
   ],
   "source": [
    "rfc = RandomForestClassifier(n_jobs=-1, n_estimators=100, max_features=30)\n",
    "rfc.fit(X_df, y_df['target_ind'])"
   ]
  },
  {
   "cell_type": "code",
   "execution_count": 28,
   "metadata": {},
   "outputs": [
    {
     "name": "stdout",
     "output_type": "stream",
     "text": [
      "Training MCC: 1.0\n",
      "Validation MCC: 0.4956455947732996\n"
     ]
    }
   ],
   "source": [
    "print(\"Training MCC: \" + str(matthews_corrcoef(y_df['target_ind'], rfc.predict(X_df))))\n",
    "print(\"Validation MCC: \" + str(matthews_corrcoef(y_val['target_ind'], rfc.predict(X_val))))"
   ]
  },
  {
   "cell_type": "markdown",
   "metadata": {},
   "source": [
    "#### Random Forest (Unweighted Classes - 100 Estimators, 40 Features)"
   ]
  },
  {
   "cell_type": "code",
   "execution_count": 29,
   "metadata": {},
   "outputs": [
    {
     "data": {
      "text/plain": [
       "RandomForestClassifier(max_features=40, n_jobs=-1)"
      ]
     },
     "execution_count": 29,
     "metadata": {},
     "output_type": "execute_result"
    }
   ],
   "source": [
    "rfc = RandomForestClassifier(n_jobs=-1, n_estimators=100, max_features=40)\n",
    "rfc.fit(X_df, y_df['target_ind'])"
   ]
  },
  {
   "cell_type": "code",
   "execution_count": 30,
   "metadata": {},
   "outputs": [
    {
     "name": "stdout",
     "output_type": "stream",
     "text": [
      "Training MCC: 1.0\n",
      "Validation MCC: 0.4979560989802467\n"
     ]
    }
   ],
   "source": [
    "print(\"Training MCC: \" + str(matthews_corrcoef(y_df['target_ind'], rfc.predict(X_df))))\n",
    "print(\"Validation MCC: \" + str(matthews_corrcoef(y_val['target_ind'], rfc.predict(X_val))))"
   ]
  },
  {
   "cell_type": "markdown",
   "metadata": {},
   "source": [
    "#### Random Forest (Unweighted Classes - 100 Estimators, 50 Features)"
   ]
  },
  {
   "cell_type": "code",
   "execution_count": 31,
   "metadata": {},
   "outputs": [
    {
     "data": {
      "text/plain": [
       "RandomForestClassifier(max_features=50, n_jobs=-1)"
      ]
     },
     "execution_count": 31,
     "metadata": {},
     "output_type": "execute_result"
    }
   ],
   "source": [
    "rfc = RandomForestClassifier(n_jobs=-1, n_estimators=100, max_features=50)\n",
    "rfc.fit(X_df, y_df['target_ind'])"
   ]
  },
  {
   "cell_type": "code",
   "execution_count": 32,
   "metadata": {},
   "outputs": [
    {
     "name": "stdout",
     "output_type": "stream",
     "text": [
      "Training MCC: 1.0\n",
      "Validation MCC: 0.5020857803558916\n"
     ]
    }
   ],
   "source": [
    "print(\"Training MCC: \" + str(matthews_corrcoef(y_df['target_ind'], rfc.predict(X_df))))\n",
    "print(\"Validation MCC: \" + str(matthews_corrcoef(y_val['target_ind'], rfc.predict(X_val))))"
   ]
  },
  {
   "cell_type": "markdown",
   "metadata": {},
   "source": [
    "#### Random Forest (Unweighted Classes - 100 Estimators, 60 Features)"
   ]
  },
  {
   "cell_type": "code",
   "execution_count": 33,
   "metadata": {},
   "outputs": [
    {
     "data": {
      "text/plain": [
       "RandomForestClassifier(max_features=60, n_jobs=-1)"
      ]
     },
     "execution_count": 33,
     "metadata": {},
     "output_type": "execute_result"
    }
   ],
   "source": [
    "rfc = RandomForestClassifier(n_jobs=-1, n_estimators=100, max_features=60)\n",
    "rfc.fit(X_df, y_df['target_ind'])"
   ]
  },
  {
   "cell_type": "code",
   "execution_count": 34,
   "metadata": {},
   "outputs": [
    {
     "name": "stdout",
     "output_type": "stream",
     "text": [
      "Training MCC: 1.0\n",
      "Validation MCC: 0.5033670438152144\n"
     ]
    }
   ],
   "source": [
    "print(\"Training MCC: \" + str(matthews_corrcoef(y_df['target_ind'], rfc.predict(X_df))))\n",
    "print(\"Validation MCC: \" + str(matthews_corrcoef(y_val['target_ind'], rfc.predict(X_val))))"
   ]
  },
  {
   "cell_type": "markdown",
   "metadata": {},
   "source": [
    "#### Random Forest (Unweighted Classes - 100 Estimators, 70 Features)"
   ]
  },
  {
   "cell_type": "code",
   "execution_count": 35,
   "metadata": {},
   "outputs": [
    {
     "data": {
      "text/plain": [
       "RandomForestClassifier(max_features=70, n_jobs=-1)"
      ]
     },
     "execution_count": 35,
     "metadata": {},
     "output_type": "execute_result"
    }
   ],
   "source": [
    "rfc = RandomForestClassifier(n_jobs=-1, n_estimators=100, max_features=70)\n",
    "rfc.fit(X_df, y_df['target_ind'])"
   ]
  },
  {
   "cell_type": "code",
   "execution_count": 36,
   "metadata": {},
   "outputs": [
    {
     "name": "stdout",
     "output_type": "stream",
     "text": [
      "Training MCC: 1.0\n",
      "Validation MCC: 0.5029412672867142\n"
     ]
    }
   ],
   "source": [
    "print(\"Training MCC: \" + str(matthews_corrcoef(y_df['target_ind'], rfc.predict(X_df))))\n",
    "print(\"Validation MCC: \" + str(matthews_corrcoef(y_val['target_ind'], rfc.predict(X_val))))"
   ]
  },
  {
   "cell_type": "markdown",
   "metadata": {},
   "source": [
    "#### Random Forest (Unweighted Classes - 100 Estimators, 75 Features)"
   ]
  },
  {
   "cell_type": "code",
   "execution_count": 37,
   "metadata": {},
   "outputs": [
    {
     "data": {
      "text/plain": [
       "RandomForestClassifier(max_features=75, n_jobs=-1)"
      ]
     },
     "execution_count": 37,
     "metadata": {},
     "output_type": "execute_result"
    }
   ],
   "source": [
    "rfc = RandomForestClassifier(n_jobs=-1, n_estimators=100, max_features=75)\n",
    "rfc.fit(X_df, y_df['target_ind'])"
   ]
  },
  {
   "cell_type": "code",
   "execution_count": 38,
   "metadata": {},
   "outputs": [
    {
     "name": "stdout",
     "output_type": "stream",
     "text": [
      "Training MCC: 1.0\n",
      "Validation MCC: 0.5029808116651366\n"
     ]
    }
   ],
   "source": [
    "print(\"Training MCC: \" + str(matthews_corrcoef(y_df['target_ind'], rfc.predict(X_df))))\n",
    "print(\"Validation MCC: \" + str(matthews_corrcoef(y_val['target_ind'], rfc.predict(X_val))))"
   ]
  },
  {
   "cell_type": "markdown",
   "metadata": {},
   "source": [
    "#### kNN (Distance Weights - k=50)"
   ]
  },
  {
   "cell_type": "code",
   "execution_count": 39,
   "metadata": {},
   "outputs": [
    {
     "data": {
      "text/plain": [
       "KNeighborsClassifier(n_jobs=-1, n_neighbors=50, weights='distance')"
      ]
     },
     "execution_count": 39,
     "metadata": {},
     "output_type": "execute_result"
    }
   ],
   "source": [
    "knn_d = KNeighborsClassifier(n_jobs=-1, weights='distance', n_neighbors=50)\n",
    "knn_d.fit(X_df, y_df['target_ind'])"
   ]
  },
  {
   "cell_type": "code",
   "execution_count": 40,
   "metadata": {},
   "outputs": [
    {
     "name": "stdout",
     "output_type": "stream",
     "text": [
      "Training MCC: 1.0\n",
      "Validation MCC: 0.2869463154820552\n"
     ]
    }
   ],
   "source": [
    "print(\"Training MCC: \" + str(matthews_corrcoef(y_df['target_ind'], knn_d.predict(X_df))))\n",
    "print(\"Validation MCC: \" + str(matthews_corrcoef(y_val['target_ind'], knn_d.predict(X_val))))"
   ]
  },
  {
   "cell_type": "markdown",
   "metadata": {},
   "source": [
    "#### kNN (Distance Weights - k=100)"
   ]
  },
  {
   "cell_type": "code",
   "execution_count": 41,
   "metadata": {},
   "outputs": [
    {
     "data": {
      "text/plain": [
       "KNeighborsClassifier(n_jobs=-1, n_neighbors=100, weights='distance')"
      ]
     },
     "execution_count": 41,
     "metadata": {},
     "output_type": "execute_result"
    }
   ],
   "source": [
    "knn_d = KNeighborsClassifier(n_jobs=-1, weights='distance', n_neighbors=100)\n",
    "knn_d.fit(X_df, y_df['target_ind'])"
   ]
  },
  {
   "cell_type": "code",
   "execution_count": 42,
   "metadata": {},
   "outputs": [
    {
     "name": "stdout",
     "output_type": "stream",
     "text": [
      "Training MCC: 1.0\n",
      "Validation MCC: 0.24774625950287915\n"
     ]
    }
   ],
   "source": [
    "print(\"Training MCC: \" + str(matthews_corrcoef(y_df['target_ind'], knn_d.predict(X_df))))\n",
    "print(\"Validation MCC: \" + str(matthews_corrcoef(y_val['target_ind'], knn_d.predict(X_val))))"
   ]
  },
  {
   "cell_type": "markdown",
   "metadata": {},
   "source": [
    "#### kNN (Distance - Original Data k = 1)"
   ]
  },
  {
   "cell_type": "code",
   "execution_count": 5,
   "metadata": {},
   "outputs": [
    {
     "name": "stdout",
     "output_type": "stream",
     "text": [
      "(4720388, 75)\n",
      "(5792742, 75)\n"
     ]
    },
    {
     "data": {
      "text/plain": [
       "KNeighborsClassifier(n_jobs=-1, n_neighbors=1, weights='distance')"
      ]
     },
     "execution_count": 5,
     "metadata": {},
     "output_type": "execute_result"
    }
   ],
   "source": [
    "knn_d = KNeighborsClassifier(n_jobs=-1, weights='distance', n_neighbors=1)\n",
    "knn_d.fit(X_train, y_train['target_ind'])"
   ]
  },
  {
   "cell_type": "code",
   "execution_count": 6,
   "metadata": {},
   "outputs": [
    {
     "name": "stdout",
     "output_type": "stream",
     "text": [
      "Training MCC: 1.0\n",
      "Validation MCC: 0.64689759936139\n"
     ]
    }
   ],
   "source": [
    "print(\"Training MCC: \" + str(matthews_corrcoef(y_train['target_ind'], knn_d.predict(X_train))))\n",
    "print(\"Validation MCC: \" + str(matthews_corrcoef(y_val['target_ind'], knn_d.predict(X_val))))"
   ]
  },
  {
   "cell_type": "markdown",
   "metadata": {},
   "source": [
    "#### kNN (Distance - Original Data k = 2)"
   ]
  },
  {
   "cell_type": "code",
   "execution_count": 7,
   "metadata": {},
   "outputs": [
    {
     "data": {
      "text/plain": [
       "KNeighborsClassifier(n_jobs=-1, n_neighbors=2, weights='distance')"
      ]
     },
     "execution_count": 7,
     "metadata": {},
     "output_type": "execute_result"
    }
   ],
   "source": [
    "knn_d = KNeighborsClassifier(n_jobs=-1, weights='distance', n_neighbors=2)\n",
    "knn_d.fit(X_train, y_train['target_ind'])"
   ]
  },
  {
   "cell_type": "code",
   "execution_count": 8,
   "metadata": {},
   "outputs": [
    {
     "name": "stdout",
     "output_type": "stream",
     "text": [
      "Training MCC: 1.0\n",
      "Validation MCC: 0.64689759936139\n"
     ]
    }
   ],
   "source": [
    "print(\"Training MCC: \" + str(matthews_corrcoef(y_train['target_ind'], knn_d.predict(X_train))))\n",
    "print(\"Validation MCC: \" + str(matthews_corrcoef(y_val['target_ind'], knn_d.predict(X_val))))"
   ]
  },
  {
   "cell_type": "markdown",
   "metadata": {},
   "source": [
    "#### kNN (Distance - Original Data k = 3)"
   ]
  },
  {
   "cell_type": "code",
   "execution_count": 9,
   "metadata": {},
   "outputs": [
    {
     "data": {
      "text/plain": [
       "KNeighborsClassifier(n_jobs=-1, n_neighbors=3, weights='distance')"
      ]
     },
     "execution_count": 9,
     "metadata": {},
     "output_type": "execute_result"
    }
   ],
   "source": [
    "knn_d = KNeighborsClassifier(n_jobs=-1, weights='distance', n_neighbors=3)\n",
    "knn_d.fit(X_train, y_train['target_ind'])"
   ]
  },
  {
   "cell_type": "code",
   "execution_count": 10,
   "metadata": {},
   "outputs": [
    {
     "name": "stdout",
     "output_type": "stream",
     "text": [
      "Training MCC: 1.0\n",
      "Validation MCC: 0.5421032617905686\n"
     ]
    }
   ],
   "source": [
    "print(\"Training MCC: \" + str(matthews_corrcoef(y_train['target_ind'], knn_d.predict(X_train))))\n",
    "print(\"Validation MCC: \" + str(matthews_corrcoef(y_val['target_ind'], knn_d.predict(X_val))))"
   ]
  },
  {
   "cell_type": "markdown",
   "metadata": {},
   "source": [
    "#### kNN (Distance - Original Data k = 4)"
   ]
  },
  {
   "cell_type": "code",
   "execution_count": 11,
   "metadata": {},
   "outputs": [
    {
     "data": {
      "text/plain": [
       "KNeighborsClassifier(n_jobs=-1, n_neighbors=4, weights='distance')"
      ]
     },
     "execution_count": 11,
     "metadata": {},
     "output_type": "execute_result"
    }
   ],
   "source": [
    "knn_d = KNeighborsClassifier(n_jobs=-1, weights='distance', n_neighbors=4)\n",
    "knn_d.fit(X_train, y_train['target_ind'])"
   ]
  },
  {
   "cell_type": "code",
   "execution_count": 12,
   "metadata": {},
   "outputs": [
    {
     "name": "stdout",
     "output_type": "stream",
     "text": [
      "Training MCC: 1.0\n",
      "Validation MCC: 0.4884746931682935\n"
     ]
    }
   ],
   "source": [
    "print(\"Training MCC: \" + str(matthews_corrcoef(y_train['target_ind'], knn_d.predict(X_train))))\n",
    "print(\"Validation MCC: \" + str(matthews_corrcoef(y_val['target_ind'], knn_d.predict(X_val))))"
   ]
  },
  {
   "cell_type": "markdown",
   "metadata": {},
   "source": [
    "#### Decision Tree (Unweighted) - Original Data"
   ]
  },
  {
   "cell_type": "code",
   "execution_count": 14,
   "metadata": {},
   "outputs": [
    {
     "data": {
      "text/plain": [
       "DecisionTreeClassifier()"
      ]
     },
     "execution_count": 14,
     "metadata": {},
     "output_type": "execute_result"
    }
   ],
   "source": [
    "dt = DecisionTreeClassifier()\n",
    "dt.fit(X_train, y_train['target_ind'])"
   ]
  },
  {
   "cell_type": "code",
   "execution_count": 15,
   "metadata": {},
   "outputs": [
    {
     "name": "stdout",
     "output_type": "stream",
     "text": [
      "Training MCC: 1.0\n",
      "Validation MCC: 0.32686248182042915\n"
     ]
    }
   ],
   "source": [
    "print(\"Training MCC: \" + str(matthews_corrcoef(y_train['target_ind'], dt.predict(X_train))))\n",
    "print(\"Validation MCC: \" + str(matthews_corrcoef(y_val['target_ind'], dt.predict(X_val))))"
   ]
  },
  {
   "cell_type": "markdown",
   "metadata": {},
   "source": [
    "#### Decision Tree (Weighted) - Original Data"
   ]
  },
  {
   "cell_type": "code",
   "execution_count": 16,
   "metadata": {},
   "outputs": [
    {
     "data": {
      "text/plain": [
       "DecisionTreeClassifier(class_weight='balanced')"
      ]
     },
     "execution_count": 16,
     "metadata": {},
     "output_type": "execute_result"
    }
   ],
   "source": [
    "dt_b = DecisionTreeClassifier(class_weight='balanced')\n",
    "dt_b.fit(X_train, y_train['target_ind'])"
   ]
  },
  {
   "cell_type": "code",
   "execution_count": 17,
   "metadata": {},
   "outputs": [
    {
     "name": "stdout",
     "output_type": "stream",
     "text": [
      "Training MCC: 1.0\n",
      "Validation MCC: 0.32388078722368885\n"
     ]
    }
   ],
   "source": [
    "print(\"Training MCC: \" + str(matthews_corrcoef(y_train['target_ind'], dt_b.predict(X_train))))\n",
    "print(\"Validation MCC: \" + str(matthews_corrcoef(y_val['target_ind'], dt_b.predict(X_val))))"
   ]
  },
  {
   "cell_type": "markdown",
   "metadata": {},
   "source": [
    "#### Decision Tree (Unweighted) - RUS80:20"
   ]
  },
  {
   "cell_type": "code",
   "execution_count": 5,
   "metadata": {},
   "outputs": [
    {
     "data": {
      "text/plain": [
       "DecisionTreeClassifier()"
      ]
     },
     "execution_count": 5,
     "metadata": {},
     "output_type": "execute_result"
    }
   ],
   "source": [
    "dt = DecisionTreeClassifier()\n",
    "dt.fit(X_df, y_df['target_ind'])"
   ]
  },
  {
   "cell_type": "code",
   "execution_count": 6,
   "metadata": {},
   "outputs": [
    {
     "name": "stdout",
     "output_type": "stream",
     "text": [
      "Training MCC: 1.0\n",
      "Validation MCC: 0.3424808188734605\n"
     ]
    }
   ],
   "source": [
    "print(\"Training MCC: \" + str(matthews_corrcoef(y_df['target_ind'], dt.predict(X_df))))\n",
    "print(\"Validation MCC: \" + str(matthews_corrcoef(y_val['target_ind'], dt.predict(X_val))))"
   ]
  },
  {
   "cell_type": "markdown",
   "metadata": {},
   "source": [
    "#### Decision Tree (Weighted) - RUS80:20"
   ]
  },
  {
   "cell_type": "code",
   "execution_count": 20,
   "metadata": {},
   "outputs": [
    {
     "data": {
      "text/plain": [
       "DecisionTreeClassifier(class_weight='balanced')"
      ]
     },
     "execution_count": 20,
     "metadata": {},
     "output_type": "execute_result"
    }
   ],
   "source": [
    "dt_b = DecisionTreeClassifier(class_weight='balanced')\n",
    "dt_b.fit(X_df, y_df['target_ind'])"
   ]
  },
  {
   "cell_type": "code",
   "execution_count": 21,
   "metadata": {},
   "outputs": [
    {
     "name": "stdout",
     "output_type": "stream",
     "text": [
      "Training MCC: 1.0\n",
      "Validation MCC: 0.33027593982684883\n"
     ]
    }
   ],
   "source": [
    "print(\"Training MCC: \" + str(matthews_corrcoef(y_df['target_ind'], dt_b.predict(X_df))))\n",
    "print(\"Validation MCC: \" + str(matthews_corrcoef(y_val['target_ind'], dt_b.predict(X_val))))"
   ]
  },
  {
   "cell_type": "markdown",
   "metadata": {},
   "source": [
    "#### kNN (Uniform - Original Data k = 1)"
   ]
  },
  {
   "cell_type": "code",
   "execution_count": 22,
   "metadata": {},
   "outputs": [
    {
     "data": {
      "text/plain": [
       "KNeighborsClassifier(n_jobs=-1, n_neighbors=1)"
      ]
     },
     "execution_count": 22,
     "metadata": {},
     "output_type": "execute_result"
    }
   ],
   "source": [
    "knn = KNeighborsClassifier(n_jobs=-1, n_neighbors=1)\n",
    "knn.fit(X_train, y_train['target_ind'])"
   ]
  },
  {
   "cell_type": "code",
   "execution_count": 23,
   "metadata": {},
   "outputs": [
    {
     "name": "stdout",
     "output_type": "stream",
     "text": [
      "Training MCC: 1.0\n",
      "Validation MCC: 0.64689759936139\n"
     ]
    }
   ],
   "source": [
    "print(\"Training MCC: \" + str(matthews_corrcoef(y_train['target_ind'], knn.predict(X_train))))\n",
    "print(\"Validation MCC: \" + str(matthews_corrcoef(y_val['target_ind'], knn.predict(X_val))))"
   ]
  },
  {
   "cell_type": "markdown",
   "metadata": {},
   "source": [
    "#### Decision Tree (Unweighted) - RUS80:20 - Prune"
   ]
  },
  {
   "cell_type": "code",
   "execution_count": 7,
   "metadata": {},
   "outputs": [],
   "source": [
    "path = dt.cost_complexity_pruning_path(X_df, y_df['target_ind'])\n",
    "ccp_alphas, impurities = path.ccp_alphas, path.impurities"
   ]
  },
  {
   "cell_type": "code",
   "execution_count": 17,
   "metadata": {},
   "outputs": [],
   "source": [
    "clfs = []\n",
    "mccs = []"
   ]
  },
  {
   "cell_type": "code",
   "execution_count": 18,
   "metadata": {},
   "outputs": [],
   "source": [
    "for ccp_alpha in ccp_alphas[::3125]:\n",
    "    clf = DecisionTreeClassifier(ccp_alpha=ccp_alpha)\n",
    "    clf.fit(X_df, y_df['target_ind'])\n",
    "    clfs.append(clf)\n",
    "    mccs.append(matthews_corrcoef(y_val['target_ind'], clf.predict(X_val)))\n"
   ]
  },
  {
   "cell_type": "code",
   "execution_count": 19,
   "metadata": {},
   "outputs": [
    {
     "data": {
      "text/plain": [
       "[0.34227964270808764,\n",
       " 0.3394573896695017,\n",
       " 0.3357476265880495,\n",
       " 0.3312096267236257,\n",
       " 0.3282855542301862,\n",
       " 0.321811309974493,\n",
       " 0.31425905184348124,\n",
       " 0.3052097715281729,\n",
       " 0.2982934292516812,\n",
       " 0.28912812840177665,\n",
       " 0.2794504588319622,\n",
       " 0.2697960331639499,\n",
       " 0.2600285511863893,\n",
       " 0.24999217619873348,\n",
       " 0.2387138108589632,\n",
       " 0.22573624471819947,\n",
       " 0.2100120960825727,\n",
       " 0.1933671370041696,\n",
       " 0.17357528179539392,\n",
       " 0.15062978851421804,\n",
       " 0.13243684289058164]"
      ]
     },
     "execution_count": 19,
     "metadata": {},
     "output_type": "execute_result"
    }
   ],
   "source": [
    "mccs"
   ]
  },
  {
   "cell_type": "code",
   "execution_count": null,
   "metadata": {},
   "outputs": [],
   "source": []
  }
 ],
 "metadata": {
  "kernelspec": {
   "display_name": "Python 3",
   "language": "python",
   "name": "python3"
  },
  "language_info": {
   "codemirror_mode": {
    "name": "ipython",
    "version": 3
   },
   "file_extension": ".py",
   "mimetype": "text/x-python",
   "name": "python",
   "nbconvert_exporter": "python",
   "pygments_lexer": "ipython3",
   "version": "3.7.9"
  }
 },
 "nbformat": 4,
 "nbformat_minor": 4
}
