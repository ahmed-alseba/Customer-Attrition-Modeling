{
 "cells": [
  {
   "cell_type": "code",
   "execution_count": 1,
   "metadata": {},
   "outputs": [],
   "source": [
    "import pandas as pd\n",
    "import numpy as np\n",
    "import seaborn as sns\n",
    "\n",
    "from sklearn.model_selection import train_test_split\n",
    "\n",
    "from sklearn.dummy import DummyClassifier\n",
    "from sklearn.naive_bayes import GaussianNB\n",
    "from sklearn.svm import LinearSVC\n",
    "from sklearn.svm import SVC\n",
    "from sklearn.linear_model import LogisticRegression\n",
    "from sklearn.ensemble import RandomForestClassifier\n",
    "from sklearn.ensemble import AdaBoostClassifier\n",
    "from sklearn.ensemble import GradientBoostingClassifier\n",
    "from sklearn.neighbors import KNeighborsClassifier\n",
    "from sklearn.experimental import enable_hist_gradient_boosting\n",
    "from sklearn.ensemble import HistGradientBoostingClassifier\n",
    "\n",
    "from sklearn.metrics import matthews_corrcoef\n",
    "from sklearn.metrics import accuracy_score\n",
    "from sklearn.metrics import f1_score\n",
    "from sklearn.metrics import confusion_matrix\n",
    "\n",
    "pd.set_option('display.max_rows', 100)\n",
    "pd.set_option('display.max_columns', 100)"
   ]
  },
  {
   "cell_type": "markdown",
   "metadata": {},
   "source": [
    "### Features Data Types"
   ]
  },
  {
   "cell_type": "code",
   "execution_count": 2,
   "metadata": {},
   "outputs": [],
   "source": [
    "column_types_X = {'z_age': 'float64', 'z_census_household_1p_pct': 'float64', 'z_census_education_high_pct': 'float64', \n",
    "                'z_census_purchase_household': 'float64', 'z_census_purchase_capita': 'float64', \n",
    "                'z_census_household_cnt': 'float64', 'multiplay_cnt': 'float64', 'z_line_cnt': 'float64', \n",
    "                'z_sim_cnt': 'float64', 'fixed_prod_cat1_ind': 'float64', 'tenure_fixed_month': 'float64', \n",
    "                'tenure_mobile_month': 'float64', 'z_line_voice_cat1_cnt': 'float64', 'fixed_data_cat1_ind': 'float64', \n",
    "                'fixed_data_cat2_ind': 'float64', 'z_fixed_prod_cat2_cnt': 'float64', 'z_fixed_prod_cat1_cnt': 'float64', \n",
    "                'z_fixed_data_cat3_cnt': 'float64', 'fixed_prod_cat3_cnt': 'float64', 'device_smartphone_cnt': 'float64', \n",
    "                'z_mobile_voice_cat1_cnt': 'float64', 'z_mobile_data_cat1_cnt': 'float64', 'mobile_data_cat2_cnt': 'float64', \n",
    "                'z_mobile_voice_cat3_cnt': 'float64', 'z_mobile_data_cat3_cnt': 'float64', 'z_usg_fv_3m_avg': 'float64', \n",
    "                'z_usg_fd_mb_1m_sum': 'float64', 'z_usg_fd_mb_3m_avg': 'float64', 'z_usg_mv_ib_a_3m_avg': 'float64', \n",
    "                'z_usg_md_sms_ib_a_3m_avg': 'float64', 'z_usg_md_ib_mb_3m_avg': 'float64', \n",
    "                'payment_method_cash_cnt': 'float64', 'z_rev_1m_sum': 'float64', 'z_device_netcube_cnt': 'float64', \n",
    "                'z_tariff_netcube_cnt': 'float64', 'z_min_Prog_Max_BB_Down': 'float64', 'z_line_Fib2h_CNT': 'float64', \n",
    "                'z_min_Speed_Product_KBit': 'float64', 'z_Max_Speed_Missing_KBit': 'float64', \n",
    "                'z_Min_Speed_Reserve_KBit': 'float64', 'z_Max_DSL_OOS_PCT': 'float64', 'z_PR_Relocation_CNT': 'float64', \n",
    "                'z_PR_Relocation_Days': 'float64', 'z_PR_ActivationSupportOpt_CNT': 'float64', \n",
    "                'z_PR_ActivationSupportOpt_Days': 'float64', 'z_PR_DeactivationThreat_CNT': 'float64', \n",
    "                'z_PR_DeactivationSupport_CNT': 'float64', 'z_PR_DeactivationProdOpt_CNT': 'float64', \n",
    "                'z_PR_DeactivationProdOpt_Days': 'float64', 'z_PR_OtherWOTopic_CNT': 'float64', \n",
    "                'z_PR_OtherWOTopic_Days': 'float64', 'z_PR_AddressChange_CNT': 'float64', \n",
    "                'z_PR_AddressChange_Days': 'float64', 'z_PR_ServiceDisruption_CNT': 'float64', \n",
    "                'z_PR_ServiceDisruption_Days': 'float64', 'z_PR_BasketSupport_CNT': 'float64', \n",
    "                'z_PR_BasketSupport_Days': 'float64', 'z_PR_SellingSalesSupport_CNT': 'float64', \n",
    "                'z_PR_SellingSalesSupport_Days': 'float64', 'z_PR_DigitalUsage_CNT': 'float64', \n",
    "                'z_PR_DigitalUsage_Days': 'float64', 'z_TNPS_Last_Days': 'float64', 'z_TNPS_Score_Avg': 'float64', \n",
    "                'province_cd_A': 'float64', 'province_cd_B': 'float64', 'province_cd_C': 'float64', \n",
    "                'province_cd_D': 'float64', 'province_cd_E': 'float64', 'province_cd_F': 'float64', 'province_cd_G': 'float64', \n",
    "                'province_cd_H': 'float64', 'province_cd_I': 'float64', 'Gender_CD_F': 'float64', \n",
    "                'prod_monodual_cd_D': 'float64', 'customer_value_cd_cat': 'float64'}\n",
    "\n",
    "column_types_y = {'target_ind': 'float64'}"
   ]
  },
  {
   "cell_type": "markdown",
   "metadata": {},
   "source": [
    "### Load Data"
   ]
  },
  {
   "cell_type": "code",
   "execution_count": 3,
   "metadata": {},
   "outputs": [],
   "source": [
    "X_train = pd.read_csv('X_train.csv', dtype=column_types_X)\n",
    "y_train = pd.read_csv('y_train.csv', dtype=column_types_y)\n",
    "X_train['target_ind'] = y_train['target_ind']\n",
    "\n",
    "X_val = pd.read_csv('X_val.csv', dtype=column_types_X)\n",
    "y_val = pd.read_csv('y_val.csv', dtype=column_types_y)"
   ]
  },
  {
   "cell_type": "markdown",
   "metadata": {},
   "source": [
    "### 80:20 Upsampling of Minority Class"
   ]
  },
  {
   "cell_type": "code",
   "execution_count": 4,
   "metadata": {},
   "outputs": [],
   "source": [
    "# Seperate dataset by class\n",
    "df_minority  = X_train[X_train['target_ind']==1]\n",
    "df_majority = X_train[X_train['target_ind']==0]\n",
    "\n",
    "# Upsample minority class\n",
    "df_minority = df_minority.sample(n=int(0.25*len(df_majority)), replace=True)\n",
    "\n",
    "# Merge the two classes into one dataset\n",
    "df = pd.concat([df_majority,df_minority])\n",
    "\n",
    "# Shuffle the dataset\n",
    "df = df.sample(frac=1)\n",
    "X_df = df.drop(['target_ind'], axis=1)\n",
    "y_df = df[['target_ind']]"
   ]
  },
  {
   "cell_type": "markdown",
   "metadata": {},
   "source": [
    "#### Random Forest (Unweighted Classes - 100 Estimators)"
   ]
  },
  {
   "cell_type": "code",
   "execution_count": 5,
   "metadata": {},
   "outputs": [
    {
     "data": {
      "text/plain": [
       "RandomForestClassifier(n_jobs=-1)"
      ]
     },
     "execution_count": 5,
     "metadata": {},
     "output_type": "execute_result"
    }
   ],
   "source": [
    "rfc = RandomForestClassifier(n_jobs=-1, n_estimators=100)\n",
    "rfc.fit(X_df, y_df['target_ind'])"
   ]
  },
  {
   "cell_type": "code",
   "execution_count": 6,
   "metadata": {},
   "outputs": [
    {
     "name": "stdout",
     "output_type": "stream",
     "text": [
      "Training MCC: 0.9999994605319976\n",
      "Validation MCC: 0.47204549139170515\n"
     ]
    }
   ],
   "source": [
    "print(\"Training MCC: \" + str(matthews_corrcoef(y_df['target_ind'], rfc.predict(X_df))))\n",
    "print(\"Validation MCC: \" + str(matthews_corrcoef(y_val['target_ind'], rfc.predict(X_val))))"
   ]
  },
  {
   "cell_type": "markdown",
   "metadata": {},
   "source": [
    "#### Random Forest (Unweighted Classes - 200 Estimators)"
   ]
  },
  {
   "cell_type": "code",
   "execution_count": 8,
   "metadata": {},
   "outputs": [
    {
     "data": {
      "text/plain": [
       "RandomForestClassifier(n_estimators=200, n_jobs=-1)"
      ]
     },
     "execution_count": 8,
     "metadata": {},
     "output_type": "execute_result"
    }
   ],
   "source": [
    "rfc = RandomForestClassifier(n_jobs=-1, n_estimators=200)\n",
    "rfc.fit(X_df, y_df['target_ind'])"
   ]
  },
  {
   "cell_type": "code",
   "execution_count": 9,
   "metadata": {},
   "outputs": [
    {
     "name": "stdout",
     "output_type": "stream",
     "text": [
      "Training MCC: 1.0\n",
      "Validation MCC: 0.47341049893467363\n"
     ]
    }
   ],
   "source": [
    "print(\"Training MCC: \" + str(matthews_corrcoef(y_df['target_ind'], rfc.predict(X_df))))\n",
    "print(\"Validation MCC: \" + str(matthews_corrcoef(y_val['target_ind'], rfc.predict(X_val))))"
   ]
  },
  {
   "cell_type": "markdown",
   "metadata": {},
   "source": [
    "#### Random Forest (Unweighted Classes - 300 Estimators)"
   ]
  },
  {
   "cell_type": "code",
   "execution_count": 11,
   "metadata": {},
   "outputs": [
    {
     "data": {
      "text/plain": [
       "RandomForestClassifier(n_estimators=300, n_jobs=-1)"
      ]
     },
     "execution_count": 11,
     "metadata": {},
     "output_type": "execute_result"
    }
   ],
   "source": [
    "rfc = RandomForestClassifier(n_jobs=-1, n_estimators=300)\n",
    "rfc.fit(X_df, y_df['target_ind'])"
   ]
  },
  {
   "cell_type": "code",
   "execution_count": 12,
   "metadata": {},
   "outputs": [
    {
     "name": "stdout",
     "output_type": "stream",
     "text": [
      "Training MCC: 1.0\n",
      "Validation MCC: 0.47595010365911183\n"
     ]
    }
   ],
   "source": [
    "print(\"Training MCC: \" + str(matthews_corrcoef(y_df['target_ind'], rfc.predict(X_df))))\n",
    "print(\"Validation MCC: \" + str(matthews_corrcoef(y_val['target_ind'], rfc.predict(X_val))))"
   ]
  },
  {
   "cell_type": "markdown",
   "metadata": {},
   "source": [
    "#### Random Forest (Unweighted Classes - 400 Estimators)"
   ]
  },
  {
   "cell_type": "code",
   "execution_count": 14,
   "metadata": {},
   "outputs": [
    {
     "data": {
      "text/plain": [
       "RandomForestClassifier(n_estimators=400, n_jobs=-1)"
      ]
     },
     "execution_count": 14,
     "metadata": {},
     "output_type": "execute_result"
    }
   ],
   "source": [
    "rfc = RandomForestClassifier(n_jobs=-1, n_estimators=400)\n",
    "rfc.fit(X_df, y_df['target_ind'])"
   ]
  },
  {
   "cell_type": "code",
   "execution_count": 15,
   "metadata": {},
   "outputs": [
    {
     "name": "stdout",
     "output_type": "stream",
     "text": [
      "Training MCC: 1.0\n",
      "Validation MCC: 0.47682963114355886\n"
     ]
    }
   ],
   "source": [
    "print(\"Training MCC: \" + str(matthews_corrcoef(y_df['target_ind'], rfc.predict(X_df))))\n",
    "print(\"Validation MCC: \" + str(matthews_corrcoef(y_val['target_ind'], rfc.predict(X_val))))"
   ]
  },
  {
   "cell_type": "markdown",
   "metadata": {},
   "source": [
    "#### Random Forest (Unweighted Classes - 500 Estimators)"
   ]
  },
  {
   "cell_type": "code",
   "execution_count": 17,
   "metadata": {},
   "outputs": [
    {
     "data": {
      "text/plain": [
       "RandomForestClassifier(n_estimators=500, n_jobs=-1)"
      ]
     },
     "execution_count": 17,
     "metadata": {},
     "output_type": "execute_result"
    }
   ],
   "source": [
    "rfc = RandomForestClassifier(n_jobs=-1, n_estimators=500)\n",
    "rfc.fit(X_df, y_df['target_ind'])"
   ]
  },
  {
   "cell_type": "code",
   "execution_count": 18,
   "metadata": {},
   "outputs": [
    {
     "name": "stdout",
     "output_type": "stream",
     "text": [
      "Training MCC: 1.0\n",
      "Validation MCC: 0.4764575240366148\n"
     ]
    }
   ],
   "source": [
    "print(\"Training MCC: \" + str(matthews_corrcoef(y_df['target_ind'], rfc.predict(X_df))))\n",
    "print(\"Validation MCC: \" + str(matthews_corrcoef(y_val['target_ind'], rfc.predict(X_val))))"
   ]
  },
  {
   "cell_type": "markdown",
   "metadata": {},
   "source": [
    "#### AdaBoost (100 Estimators)"
   ]
  },
  {
   "cell_type": "code",
   "execution_count": 19,
   "metadata": {},
   "outputs": [
    {
     "data": {
      "text/plain": [
       "AdaBoostClassifier(n_estimators=100)"
      ]
     },
     "execution_count": 19,
     "metadata": {},
     "output_type": "execute_result"
    }
   ],
   "source": [
    "ada = AdaBoostClassifier(n_estimators=100)\n",
    "ada.fit(X_df, y_df['target_ind'])"
   ]
  },
  {
   "cell_type": "code",
   "execution_count": 20,
   "metadata": {},
   "outputs": [
    {
     "name": "stdout",
     "output_type": "stream",
     "text": [
      "Training MCC: 0.24658057752900667\n",
      "Validation MCC: 0.12162880357289275\n"
     ]
    }
   ],
   "source": [
    "print(\"Training MCC: \" + str(matthews_corrcoef(y_df['target_ind'], ada.predict(X_df))))\n",
    "print(\"Validation MCC: \" + str(matthews_corrcoef(y_val['target_ind'], ada.predict(X_val))))"
   ]
  },
  {
   "cell_type": "markdown",
   "metadata": {},
   "source": [
    "#### AdaBoost (200 Estimators)"
   ]
  },
  {
   "cell_type": "code",
   "execution_count": 22,
   "metadata": {},
   "outputs": [
    {
     "data": {
      "text/plain": [
       "AdaBoostClassifier(n_estimators=200)"
      ]
     },
     "execution_count": 22,
     "metadata": {},
     "output_type": "execute_result"
    }
   ],
   "source": [
    "ada = AdaBoostClassifier(n_estimators=200)\n",
    "ada.fit(X_df, y_df['target_ind'])"
   ]
  },
  {
   "cell_type": "code",
   "execution_count": 23,
   "metadata": {},
   "outputs": [
    {
     "name": "stdout",
     "output_type": "stream",
     "text": [
      "Training MCC: 0.24920923433425915\n",
      "Validation MCC: 0.1234940749595196\n"
     ]
    }
   ],
   "source": [
    "print(\"Training MCC: \" + str(matthews_corrcoef(y_df['target_ind'], ada.predict(X_df))))\n",
    "print(\"Validation MCC: \" + str(matthews_corrcoef(y_val['target_ind'], ada.predict(X_val))))"
   ]
  },
  {
   "cell_type": "markdown",
   "metadata": {},
   "source": [
    "#### AdaBoost (300 Estimators)"
   ]
  },
  {
   "cell_type": "code",
   "execution_count": 25,
   "metadata": {},
   "outputs": [
    {
     "data": {
      "text/plain": [
       "AdaBoostClassifier(n_estimators=300)"
      ]
     },
     "execution_count": 25,
     "metadata": {},
     "output_type": "execute_result"
    }
   ],
   "source": [
    "ada = AdaBoostClassifier(n_estimators=300)\n",
    "ada.fit(X_df, y_df['target_ind'])"
   ]
  },
  {
   "cell_type": "code",
   "execution_count": 26,
   "metadata": {},
   "outputs": [
    {
     "name": "stdout",
     "output_type": "stream",
     "text": [
      "Training MCC: 0.25152901154854757\n",
      "Validation MCC: 0.12401036412678232\n"
     ]
    }
   ],
   "source": [
    "print(\"Training MCC: \" + str(matthews_corrcoef(y_df['target_ind'], ada.predict(X_df))))\n",
    "print(\"Validation MCC: \" + str(matthews_corrcoef(y_val['target_ind'], ada.predict(X_val))))"
   ]
  },
  {
   "cell_type": "markdown",
   "metadata": {},
   "source": [
    "#### AdaBoost (400 Estimators)"
   ]
  },
  {
   "cell_type": "code",
   "execution_count": 28,
   "metadata": {},
   "outputs": [
    {
     "data": {
      "text/plain": [
       "AdaBoostClassifier(n_estimators=400)"
      ]
     },
     "execution_count": 28,
     "metadata": {},
     "output_type": "execute_result"
    }
   ],
   "source": [
    "ada = AdaBoostClassifier(n_estimators=400)\n",
    "ada.fit(X_df, y_df['target_ind'])"
   ]
  },
  {
   "cell_type": "code",
   "execution_count": 29,
   "metadata": {},
   "outputs": [
    {
     "name": "stdout",
     "output_type": "stream",
     "text": [
      "Training MCC: 0.25193854060545084\n",
      "Validation MCC: 0.12467735127454874\n"
     ]
    }
   ],
   "source": [
    "print(\"Training MCC: \" + str(matthews_corrcoef(y_df['target_ind'], ada.predict(X_df))))\n",
    "print(\"Validation MCC: \" + str(matthews_corrcoef(y_val['target_ind'], ada.predict(X_val))))"
   ]
  },
  {
   "cell_type": "markdown",
   "metadata": {},
   "source": [
    "#### AdaBoost (500 Estimators)"
   ]
  },
  {
   "cell_type": "code",
   "execution_count": 31,
   "metadata": {},
   "outputs": [
    {
     "data": {
      "text/plain": [
       "AdaBoostClassifier(n_estimators=500)"
      ]
     },
     "execution_count": 31,
     "metadata": {},
     "output_type": "execute_result"
    }
   ],
   "source": [
    "ada = AdaBoostClassifier(n_estimators=500)\n",
    "ada.fit(X_df, y_df['target_ind'])"
   ]
  },
  {
   "cell_type": "code",
   "execution_count": 32,
   "metadata": {},
   "outputs": [
    {
     "name": "stdout",
     "output_type": "stream",
     "text": [
      "Training MCC: 0.2528830453658682\n",
      "Validation MCC: 0.12452620779844584\n"
     ]
    }
   ],
   "source": [
    "print(\"Training MCC: \" + str(matthews_corrcoef(y_df['target_ind'], ada.predict(X_df))))\n",
    "print(\"Validation MCC: \" + str(matthews_corrcoef(y_val['target_ind'], ada.predict(X_val))))"
   ]
  },
  {
   "cell_type": "markdown",
   "metadata": {},
   "source": [
    "#### Gradient Boosting"
   ]
  },
  {
   "cell_type": "code",
   "execution_count": 33,
   "metadata": {},
   "outputs": [],
   "source": [
    "# gb = GradientBoostingClassifier()\n",
    "# gb.fit(X_df, y_df['target_ind'])"
   ]
  },
  {
   "cell_type": "code",
   "execution_count": 34,
   "metadata": {},
   "outputs": [],
   "source": [
    "# print(\"Training MCC: \" + str(matthews_corrcoef(y_df['target_ind'], gb.predict(X_df))))\n",
    "# print(\"Validation MCC: \" + str(matthews_corrcoef(y_val['target_ind'], gb.predict(X_val))))"
   ]
  },
  {
   "cell_type": "markdown",
   "metadata": {},
   "source": [
    "#### kNN (Uniform Weights)"
   ]
  },
  {
   "cell_type": "code",
   "execution_count": 35,
   "metadata": {},
   "outputs": [],
   "source": [
    "# knn = KNeighborsClassifier(n_jobs=-1)\n",
    "# knn.fit(X_df, y_df['target_ind'])"
   ]
  },
  {
   "cell_type": "code",
   "execution_count": 36,
   "metadata": {},
   "outputs": [],
   "source": [
    "# print(\"Training MCC: \" + str(matthews_corrcoef(y_df['target_ind'], knn.predict(X_df))))\n",
    "# print(\"Validation MCC: \" + str(matthews_corrcoef(y_val['target_ind'], knn.predict(X_val))))"
   ]
  },
  {
   "cell_type": "markdown",
   "metadata": {},
   "source": [
    "#### kNN (Distance Weights - k=1)"
   ]
  },
  {
   "cell_type": "code",
   "execution_count": 37,
   "metadata": {},
   "outputs": [
    {
     "data": {
      "text/plain": [
       "KNeighborsClassifier(n_jobs=-1, n_neighbors=1, weights='distance')"
      ]
     },
     "execution_count": 37,
     "metadata": {},
     "output_type": "execute_result"
    }
   ],
   "source": [
    "knn_d = KNeighborsClassifier(n_jobs=-1, weights='distance', n_neighbors=1)\n",
    "knn_d.fit(X_df, y_df['target_ind'])"
   ]
  },
  {
   "cell_type": "code",
   "execution_count": 38,
   "metadata": {},
   "outputs": [
    {
     "name": "stdout",
     "output_type": "stream",
     "text": [
      "Training MCC: 1.0\n",
      "Validation MCC: 0.64689759936139\n"
     ]
    }
   ],
   "source": [
    "print(\"Training MCC: \" + str(matthews_corrcoef(y_df['target_ind'], knn_d.predict(X_df))))\n",
    "print(\"Validation MCC: \" + str(matthews_corrcoef(y_val['target_ind'], knn_d.predict(X_val))))"
   ]
  },
  {
   "cell_type": "markdown",
   "metadata": {},
   "source": [
    "#### kNN (Distance Weights - k=2)"
   ]
  },
  {
   "cell_type": "code",
   "execution_count": 40,
   "metadata": {},
   "outputs": [
    {
     "data": {
      "text/plain": [
       "KNeighborsClassifier(n_jobs=-1, n_neighbors=2, weights='distance')"
      ]
     },
     "execution_count": 40,
     "metadata": {},
     "output_type": "execute_result"
    }
   ],
   "source": [
    "knn_d = KNeighborsClassifier(n_jobs=-1, weights='distance', n_neighbors=2)\n",
    "knn_d.fit(X_df, y_df['target_ind'])"
   ]
  },
  {
   "cell_type": "code",
   "execution_count": 41,
   "metadata": {},
   "outputs": [
    {
     "name": "stdout",
     "output_type": "stream",
     "text": [
      "Training MCC: 1.0\n",
      "Validation MCC: 0.64689759936139\n"
     ]
    }
   ],
   "source": [
    "print(\"Training MCC: \" + str(matthews_corrcoef(y_df['target_ind'], knn_d.predict(X_df))))\n",
    "print(\"Validation MCC: \" + str(matthews_corrcoef(y_val['target_ind'], knn_d.predict(X_val))))"
   ]
  },
  {
   "cell_type": "markdown",
   "metadata": {},
   "source": [
    "#### kNN (Distance Weights - k=3)"
   ]
  },
  {
   "cell_type": "code",
   "execution_count": 43,
   "metadata": {},
   "outputs": [
    {
     "data": {
      "text/plain": [
       "KNeighborsClassifier(n_jobs=-1, n_neighbors=3, weights='distance')"
      ]
     },
     "execution_count": 43,
     "metadata": {},
     "output_type": "execute_result"
    }
   ],
   "source": [
    "knn_d = KNeighborsClassifier(n_jobs=-1, weights='distance', n_neighbors=3)\n",
    "knn_d.fit(X_df, y_df['target_ind'])"
   ]
  },
  {
   "cell_type": "code",
   "execution_count": 44,
   "metadata": {},
   "outputs": [
    {
     "name": "stdout",
     "output_type": "stream",
     "text": [
      "Training MCC: 1.0\n",
      "Validation MCC: 0.6065598034231751\n"
     ]
    }
   ],
   "source": [
    "print(\"Training MCC: \" + str(matthews_corrcoef(y_df['target_ind'], knn_d.predict(X_df))))\n",
    "print(\"Validation MCC: \" + str(matthews_corrcoef(y_val['target_ind'], knn_d.predict(X_val))))"
   ]
  },
  {
   "cell_type": "markdown",
   "metadata": {},
   "source": [
    "#### kNN (Distance Weights - k=4)"
   ]
  },
  {
   "cell_type": "code",
   "execution_count": 46,
   "metadata": {},
   "outputs": [
    {
     "data": {
      "text/plain": [
       "KNeighborsClassifier(n_jobs=-1, n_neighbors=4, weights='distance')"
      ]
     },
     "execution_count": 46,
     "metadata": {},
     "output_type": "execute_result"
    }
   ],
   "source": [
    "knn_d = KNeighborsClassifier(n_jobs=-1, weights='distance', n_neighbors=4)\n",
    "knn_d.fit(X_df, y_df['target_ind'])"
   ]
  },
  {
   "cell_type": "code",
   "execution_count": 47,
   "metadata": {},
   "outputs": [
    {
     "name": "stdout",
     "output_type": "stream",
     "text": [
      "Training MCC: 1.0\n",
      "Validation MCC: 0.5985252208160837\n"
     ]
    }
   ],
   "source": [
    "print(\"Training MCC: \" + str(matthews_corrcoef(y_df['target_ind'], knn_d.predict(X_df))))\n",
    "print(\"Validation MCC: \" + str(matthews_corrcoef(y_val['target_ind'], knn_d.predict(X_val))))"
   ]
  },
  {
   "cell_type": "markdown",
   "metadata": {},
   "source": [
    "#### kNN (Distance Weights - k=5)"
   ]
  },
  {
   "cell_type": "code",
   "execution_count": 49,
   "metadata": {},
   "outputs": [
    {
     "data": {
      "text/plain": [
       "KNeighborsClassifier(n_jobs=-1, weights='distance')"
      ]
     },
     "execution_count": 49,
     "metadata": {},
     "output_type": "execute_result"
    }
   ],
   "source": [
    "knn_d = KNeighborsClassifier(n_jobs=-1, weights='distance', n_neighbors=5)\n",
    "knn_d.fit(X_df, y_df['target_ind'])"
   ]
  },
  {
   "cell_type": "code",
   "execution_count": 50,
   "metadata": {},
   "outputs": [
    {
     "name": "stdout",
     "output_type": "stream",
     "text": [
      "Training MCC: 1.0\n",
      "Validation MCC: 0.554950390164101\n"
     ]
    }
   ],
   "source": [
    "print(\"Training MCC: \" + str(matthews_corrcoef(y_df['target_ind'], knn_d.predict(X_df))))\n",
    "print(\"Validation MCC: \" + str(matthews_corrcoef(y_val['target_ind'], knn_d.predict(X_val))))"
   ]
  },
  {
   "cell_type": "markdown",
   "metadata": {},
   "source": [
    "#### kNN (Distance Weights - k=6)"
   ]
  },
  {
   "cell_type": "code",
   "execution_count": 52,
   "metadata": {},
   "outputs": [
    {
     "data": {
      "text/plain": [
       "KNeighborsClassifier(n_jobs=-1, n_neighbors=6, weights='distance')"
      ]
     },
     "execution_count": 52,
     "metadata": {},
     "output_type": "execute_result"
    }
   ],
   "source": [
    "knn_d = KNeighborsClassifier(n_jobs=-1, weights='distance', n_neighbors=6)\n",
    "knn_d.fit(X_df, y_df['target_ind'])"
   ]
  },
  {
   "cell_type": "code",
   "execution_count": 53,
   "metadata": {},
   "outputs": [
    {
     "name": "stdout",
     "output_type": "stream",
     "text": [
      "Training MCC: 1.0\n",
      "Validation MCC: 0.5285117221838012\n"
     ]
    }
   ],
   "source": [
    "print(\"Training MCC: \" + str(matthews_corrcoef(y_df['target_ind'], knn_d.predict(X_df))))\n",
    "print(\"Validation MCC: \" + str(matthews_corrcoef(y_val['target_ind'], knn_d.predict(X_val))))"
   ]
  },
  {
   "cell_type": "markdown",
   "metadata": {},
   "source": [
    "#### kNN (Distance Weights - k=7)"
   ]
  },
  {
   "cell_type": "code",
   "execution_count": 55,
   "metadata": {},
   "outputs": [
    {
     "data": {
      "text/plain": [
       "KNeighborsClassifier(n_jobs=-1, n_neighbors=7, weights='distance')"
      ]
     },
     "execution_count": 55,
     "metadata": {},
     "output_type": "execute_result"
    }
   ],
   "source": [
    "knn_d = KNeighborsClassifier(n_jobs=-1, weights='distance', n_neighbors=7)\n",
    "knn_d.fit(X_df, y_df['target_ind'])"
   ]
  },
  {
   "cell_type": "code",
   "execution_count": 56,
   "metadata": {},
   "outputs": [
    {
     "name": "stdout",
     "output_type": "stream",
     "text": [
      "Training MCC: 1.0\n",
      "Validation MCC: 0.4995263457434928\n"
     ]
    }
   ],
   "source": [
    "print(\"Training MCC: \" + str(matthews_corrcoef(y_df['target_ind'], knn_d.predict(X_df))))\n",
    "print(\"Validation MCC: \" + str(matthews_corrcoef(y_val['target_ind'], knn_d.predict(X_val))))"
   ]
  },
  {
   "cell_type": "markdown",
   "metadata": {},
   "source": [
    "#### kNN (Distance Weights - k=8)"
   ]
  },
  {
   "cell_type": "code",
   "execution_count": 58,
   "metadata": {},
   "outputs": [
    {
     "data": {
      "text/plain": [
       "KNeighborsClassifier(n_jobs=-1, n_neighbors=8, weights='distance')"
      ]
     },
     "execution_count": 58,
     "metadata": {},
     "output_type": "execute_result"
    }
   ],
   "source": [
    "knn_d = KNeighborsClassifier(n_jobs=-1, weights='distance', n_neighbors=8)\n",
    "knn_d.fit(X_df, y_df['target_ind'])"
   ]
  },
  {
   "cell_type": "code",
   "execution_count": 59,
   "metadata": {},
   "outputs": [
    {
     "name": "stdout",
     "output_type": "stream",
     "text": [
      "Training MCC: 1.0\n",
      "Validation MCC: 0.4788475411385017\n"
     ]
    }
   ],
   "source": [
    "print(\"Training MCC: \" + str(matthews_corrcoef(y_df['target_ind'], knn_d.predict(X_df))))\n",
    "print(\"Validation MCC: \" + str(matthews_corrcoef(y_val['target_ind'], knn_d.predict(X_val))))"
   ]
  },
  {
   "cell_type": "markdown",
   "metadata": {},
   "source": [
    "#### kNN (Distance Weights - k=9)"
   ]
  },
  {
   "cell_type": "code",
   "execution_count": 5,
   "metadata": {},
   "outputs": [
    {
     "data": {
      "text/plain": [
       "KNeighborsClassifier(n_jobs=-1, n_neighbors=9, weights='distance')"
      ]
     },
     "execution_count": 5,
     "metadata": {},
     "output_type": "execute_result"
    }
   ],
   "source": [
    "knn_d = KNeighborsClassifier(n_jobs=-1, weights='distance', n_neighbors=9)\n",
    "knn_d.fit(X_df, y_df['target_ind'])"
   ]
  },
  {
   "cell_type": "code",
   "execution_count": 6,
   "metadata": {},
   "outputs": [
    {
     "name": "stdout",
     "output_type": "stream",
     "text": [
      "Training MCC: 1.0\n",
      "Validation MCC: 0.4564187809045722\n"
     ]
    }
   ],
   "source": [
    "print(\"Training MCC: \" + str(matthews_corrcoef(y_df['target_ind'], knn_d.predict(X_df))))\n",
    "print(\"Validation MCC: \" + str(matthews_corrcoef(y_val['target_ind'], knn_d.predict(X_val))))"
   ]
  },
  {
   "cell_type": "markdown",
   "metadata": {},
   "source": [
    "#### kNN (Distance Weights - k=10)"
   ]
  },
  {
   "cell_type": "code",
   "execution_count": 7,
   "metadata": {},
   "outputs": [
    {
     "data": {
      "text/plain": [
       "KNeighborsClassifier(n_jobs=-1, n_neighbors=10, weights='distance')"
      ]
     },
     "execution_count": 7,
     "metadata": {},
     "output_type": "execute_result"
    }
   ],
   "source": [
    "knn_d = KNeighborsClassifier(n_jobs=-1, weights='distance', n_neighbors=10)\n",
    "knn_d.fit(X_df, y_df['target_ind'])"
   ]
  },
  {
   "cell_type": "code",
   "execution_count": 8,
   "metadata": {},
   "outputs": [
    {
     "name": "stdout",
     "output_type": "stream",
     "text": [
      "Training MCC: 1.0\n",
      "Validation MCC: 0.4382415483835823\n"
     ]
    }
   ],
   "source": [
    "print(\"Training MCC: \" + str(matthews_corrcoef(y_df['target_ind'], knn_d.predict(X_df))))\n",
    "print(\"Validation MCC: \" + str(matthews_corrcoef(y_val['target_ind'], knn_d.predict(X_val))))"
   ]
  },
  {
   "cell_type": "code",
   "execution_count": null,
   "metadata": {},
   "outputs": [],
   "source": []
  }
 ],
 "metadata": {
  "kernelspec": {
   "display_name": "Python 3",
   "language": "python",
   "name": "python3"
  },
  "language_info": {
   "codemirror_mode": {
    "name": "ipython",
    "version": 3
   },
   "file_extension": ".py",
   "mimetype": "text/x-python",
   "name": "python",
   "nbconvert_exporter": "python",
   "pygments_lexer": "ipython3",
   "version": "3.7.9"
  }
 },
 "nbformat": 4,
 "nbformat_minor": 4
}
