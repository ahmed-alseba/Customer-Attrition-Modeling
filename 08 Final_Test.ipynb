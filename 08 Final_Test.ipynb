{
 "cells": [
  {
   "cell_type": "code",
   "execution_count": 23,
   "metadata": {},
   "outputs": [],
   "source": [
    "import pandas as pd\n",
    "import numpy as np\n",
    "import seaborn as sns\n",
    "\n",
    "from sklearn.model_selection import train_test_split\n",
    "\n",
    "from sklearn.dummy import DummyClassifier\n",
    "from sklearn.naive_bayes import GaussianNB\n",
    "from sklearn.svm import LinearSVC\n",
    "from sklearn.svm import SVC\n",
    "from sklearn.linear_model import LogisticRegression\n",
    "from sklearn.ensemble import RandomForestClassifier\n",
    "from sklearn.ensemble import AdaBoostClassifier\n",
    "from sklearn.ensemble import GradientBoostingClassifier\n",
    "from sklearn.neighbors import KNeighborsClassifier\n",
    "from sklearn.experimental import enable_hist_gradient_boosting\n",
    "from sklearn.ensemble import HistGradientBoostingClassifier\n",
    "from sklearn.tree import DecisionTreeClassifier\n",
    "import pickle\n",
    "\n",
    "from sklearn.metrics import matthews_corrcoef\n",
    "from sklearn.metrics import accuracy_score\n",
    "from sklearn.metrics import f1_score\n",
    "from sklearn.metrics import confusion_matrix\n",
    "\n",
    "pd.set_option('display.max_rows', 100)\n",
    "pd.set_option('display.max_columns', 100)"
   ]
  },
  {
   "cell_type": "markdown",
   "metadata": {},
   "source": [
    "### Features Data Types"
   ]
  },
  {
   "cell_type": "code",
   "execution_count": 2,
   "metadata": {},
   "outputs": [],
   "source": [
    "column_types_X = {'z_age': 'float64', 'z_census_household_1p_pct': 'float64', 'z_census_education_high_pct': 'float64', \n",
    "                'z_census_purchase_household': 'float64', 'z_census_purchase_capita': 'float64', \n",
    "                'z_census_household_cnt': 'float64', 'multiplay_cnt': 'float64', 'z_line_cnt': 'float64', \n",
    "                'z_sim_cnt': 'float64', 'fixed_prod_cat1_ind': 'float64', 'tenure_fixed_month': 'float64', \n",
    "                'tenure_mobile_month': 'float64', 'z_line_voice_cat1_cnt': 'float64', 'fixed_data_cat1_ind': 'float64', \n",
    "                'fixed_data_cat2_ind': 'float64', 'z_fixed_prod_cat2_cnt': 'float64', 'z_fixed_prod_cat1_cnt': 'float64', \n",
    "                'z_fixed_data_cat3_cnt': 'float64', 'fixed_prod_cat3_cnt': 'float64', 'device_smartphone_cnt': 'float64', \n",
    "                'z_mobile_voice_cat1_cnt': 'float64', 'z_mobile_data_cat1_cnt': 'float64', 'mobile_data_cat2_cnt': 'float64', \n",
    "                'z_mobile_voice_cat3_cnt': 'float64', 'z_mobile_data_cat3_cnt': 'float64', 'z_usg_fv_3m_avg': 'float64', \n",
    "                'z_usg_fd_mb_1m_sum': 'float64', 'z_usg_fd_mb_3m_avg': 'float64', 'z_usg_mv_ib_a_3m_avg': 'float64', \n",
    "                'z_usg_md_sms_ib_a_3m_avg': 'float64', 'z_usg_md_ib_mb_3m_avg': 'float64', \n",
    "                'payment_method_cash_cnt': 'float64', 'z_rev_1m_sum': 'float64', 'z_device_netcube_cnt': 'float64', \n",
    "                'z_tariff_netcube_cnt': 'float64', 'z_min_Prog_Max_BB_Down': 'float64', 'z_line_Fib2h_CNT': 'float64', \n",
    "                'z_min_Speed_Product_KBit': 'float64', 'z_Max_Speed_Missing_KBit': 'float64', \n",
    "                'z_Min_Speed_Reserve_KBit': 'float64', 'z_Max_DSL_OOS_PCT': 'float64', 'z_PR_Relocation_CNT': 'float64', \n",
    "                'z_PR_Relocation_Days': 'float64', 'z_PR_ActivationSupportOpt_CNT': 'float64', \n",
    "                'z_PR_ActivationSupportOpt_Days': 'float64', 'z_PR_DeactivationThreat_CNT': 'float64', \n",
    "                'z_PR_DeactivationSupport_CNT': 'float64', 'z_PR_DeactivationProdOpt_CNT': 'float64', \n",
    "                'z_PR_DeactivationProdOpt_Days': 'float64', 'z_PR_OtherWOTopic_CNT': 'float64', \n",
    "                'z_PR_OtherWOTopic_Days': 'float64', 'z_PR_AddressChange_CNT': 'float64', \n",
    "                'z_PR_AddressChange_Days': 'float64', 'z_PR_ServiceDisruption_CNT': 'float64', \n",
    "                'z_PR_ServiceDisruption_Days': 'float64', 'z_PR_BasketSupport_CNT': 'float64', \n",
    "                'z_PR_BasketSupport_Days': 'float64', 'z_PR_SellingSalesSupport_CNT': 'float64', \n",
    "                'z_PR_SellingSalesSupport_Days': 'float64', 'z_PR_DigitalUsage_CNT': 'float64', \n",
    "                'z_PR_DigitalUsage_Days': 'float64', 'z_TNPS_Last_Days': 'float64', 'z_TNPS_Score_Avg': 'float64', \n",
    "                'province_cd_A': 'float64', 'province_cd_B': 'float64', 'province_cd_C': 'float64', \n",
    "                'province_cd_D': 'float64', 'province_cd_E': 'float64', 'province_cd_F': 'float64', 'province_cd_G': 'float64', \n",
    "                'province_cd_H': 'float64', 'province_cd_I': 'float64', 'Gender_CD_F': 'float64', \n",
    "                'prod_monodual_cd_D': 'float64', 'customer_value_cd_cat': 'float64'}\n",
    "\n",
    "column_types_y = {'target_ind': 'float64'}"
   ]
  },
  {
   "cell_type": "markdown",
   "metadata": {},
   "source": [
    "### Load Data"
   ]
  },
  {
   "cell_type": "code",
   "execution_count": 3,
   "metadata": {},
   "outputs": [],
   "source": [
    "X_df = pd.read_csv('X_df.csv', dtype=column_types_X)\n",
    "y_df = pd.read_csv('y_df.csv', dtype=column_types_y)\n",
    "\n",
    "X_test = pd.read_csv('X_test.csv', dtype=column_types_X)\n",
    "y_test = pd.read_csv('y_test.csv', dtype=column_types_y)\n",
    "\n",
    "X_val = pd.read_csv('X_val.csv', dtype=column_types_X)\n",
    "y_val = pd.read_csv('y_val.csv', dtype=column_types_y)"
   ]
  },
  {
   "cell_type": "markdown",
   "metadata": {},
   "source": [
    "#### kNN (Uniform - Original Data k = 1)"
   ]
  },
  {
   "cell_type": "code",
   "execution_count": 5,
   "metadata": {},
   "outputs": [
    {
     "data": {
      "text/plain": [
       "KNeighborsClassifier(n_jobs=-1, n_neighbors=1)"
      ]
     },
     "execution_count": 5,
     "metadata": {},
     "output_type": "execute_result"
    }
   ],
   "source": [
    "knn = KNeighborsClassifier(n_jobs=-1, n_neighbors=1)\n",
    "knn.fit(X_df, y_df['target_ind'])"
   ]
  },
  {
   "cell_type": "code",
   "execution_count": 6,
   "metadata": {},
   "outputs": [
    {
     "name": "stdout",
     "output_type": "stream",
     "text": [
      "Training MCC: 1.0\n",
      "Test MCC: 0.022159037654062165\n",
      "Validation MCC: 0.64689759936139\n",
      "Test Acc: 0.9635831339926452\n"
     ]
    }
   ],
   "source": [
    "print(\"Training MCC: \" + str(matthews_corrcoef(y_df['target_ind'], knn.predict(X_df))))\n",
    "print(\"Test MCC: \" + str(matthews_corrcoef(y_test['target_ind'], knn.predict(X_test))))\n",
    "print(\"Validation MCC: \" + str(matthews_corrcoef(y_val['target_ind'], knn.predict(X_val))))\n",
    "print(\"Test Acc: \" + str(knn.score(X_test, y_test['target_ind'])))"
   ]
  },
  {
   "cell_type": "code",
   "execution_count": 7,
   "metadata": {},
   "outputs": [
    {
     "name": "stdout",
     "output_type": "stream",
     "text": [
      "[[404511   7222]\n",
      " [  8078    324]]\n"
     ]
    }
   ],
   "source": [
    "print(confusion_matrix(y_test['target_ind'], knn.predict(X_test)))"
   ]
  },
  {
   "cell_type": "markdown",
   "metadata": {},
   "source": [
    "#### Random Forest (Unweighted Classes - 100 Estimators, 8 Features)"
   ]
  },
  {
   "cell_type": "code",
   "execution_count": 24,
   "metadata": {},
   "outputs": [
    {
     "data": {
      "text/plain": [
       "RandomForestClassifier(max_features=8, n_jobs=-1)"
      ]
     },
     "execution_count": 24,
     "metadata": {},
     "output_type": "execute_result"
    }
   ],
   "source": [
    "rf = RandomForestClassifier(n_jobs=-1, n_estimators=100, max_features=8)\n",
    "rf.fit(X_df, y_df['target_ind'])"
   ]
  },
  {
   "cell_type": "code",
   "execution_count": 25,
   "metadata": {},
   "outputs": [
    {
     "name": "stdout",
     "output_type": "stream",
     "text": [
      "Training MCC: 1.0\n",
      "Test MCC: 0.11837048720728412\n",
      "Validation MCC: 0.47409293746347475\n",
      "Test Acc: 0.9801516179323313\n"
     ]
    }
   ],
   "source": [
    "print(\"Training MCC: \" + str(matthews_corrcoef(y_df['target_ind'], rf.predict(X_df))))\n",
    "print(\"Test MCC: \" + str(matthews_corrcoef(y_test['target_ind'], rf.predict(X_test))))\n",
    "print(\"Validation MCC: \" + str(matthews_corrcoef(y_val['target_ind'], rf.predict(X_val))))\n",
    "print(\"Test Acc: \" + str(rf.score(X_test, y_test['target_ind'])))"
   ]
  },
  {
   "cell_type": "code",
   "execution_count": 26,
   "metadata": {},
   "outputs": [
    {
     "name": "stdout",
     "output_type": "stream",
     "text": [
      "[[411586    147]\n",
      " [  8192    210]]\n"
     ]
    }
   ],
   "source": [
    "print(confusion_matrix(y_test['target_ind'], rf.predict(X_test)))"
   ]
  },
  {
   "cell_type": "markdown",
   "metadata": {},
   "source": [
    "#### Random Forest (Weighted Classes - 100 Estimators, 8 Features)"
   ]
  },
  {
   "cell_type": "code",
   "execution_count": 11,
   "metadata": {},
   "outputs": [
    {
     "data": {
      "text/plain": [
       "RandomForestClassifier(class_weight='balanced', max_features=8, n_jobs=-1)"
      ]
     },
     "execution_count": 11,
     "metadata": {},
     "output_type": "execute_result"
    }
   ],
   "source": [
    "rfc = RandomForestClassifier(n_jobs=-1, n_estimators=100, max_features=8, class_weight='balanced')\n",
    "rfc.fit(X_df, y_df['target_ind'])"
   ]
  },
  {
   "cell_type": "code",
   "execution_count": 12,
   "metadata": {},
   "outputs": [
    {
     "name": "stdout",
     "output_type": "stream",
     "text": [
      "Training MCC: 1.0\n",
      "Test MCC: 0.11652817921169854\n",
      "Validation MCC: 0.44980001285310495\n",
      "Test Acc: 0.9801516179323313\n"
     ]
    }
   ],
   "source": [
    "print(\"Training MCC: \" + str(matthews_corrcoef(y_df['target_ind'], rfc.predict(X_df))))\n",
    "print(\"Test MCC: \" + str(matthews_corrcoef(y_test['target_ind'], rfc.predict(X_test))))\n",
    "print(\"Validation MCC: \" + str(matthews_corrcoef(y_val['target_ind'], rfc.predict(X_val))))\n",
    "print(\"Test Acc: \" + str(rfc.score(X_test, y_test['target_ind'])))"
   ]
  },
  {
   "cell_type": "code",
   "execution_count": 13,
   "metadata": {},
   "outputs": [
    {
     "name": "stdout",
     "output_type": "stream",
     "text": [
      "[[411594    139]\n",
      " [  8200    202]]\n"
     ]
    }
   ],
   "source": [
    "print(confusion_matrix(y_test['target_ind'], rfc.predict(X_test)))"
   ]
  },
  {
   "cell_type": "markdown",
   "metadata": {},
   "source": [
    "#### AdaBoost - Max Depth = 1 Base"
   ]
  },
  {
   "cell_type": "code",
   "execution_count": 14,
   "metadata": {},
   "outputs": [
    {
     "data": {
      "text/plain": [
       "AdaBoostClassifier(base_estimator=DecisionTreeClassifier(max_depth=1),\n",
       "                   n_estimators=100)"
      ]
     },
     "execution_count": 14,
     "metadata": {},
     "output_type": "execute_result"
    }
   ],
   "source": [
    "ada = AdaBoostClassifier(base_estimator=DecisionTreeClassifier(max_depth=1), n_estimators=100)\n",
    "ada.fit(X_df, y_df['target_ind'])"
   ]
  },
  {
   "cell_type": "code",
   "execution_count": 15,
   "metadata": {},
   "outputs": [
    {
     "name": "stdout",
     "output_type": "stream",
     "text": [
      "Training MCC: 0.24680135272748138\n",
      "Test MCC: 0.12806107960256968\n",
      "Validation MCC: 0.12215095521101325\n",
      "Test Acc: 0.9653420924226737\n"
     ]
    }
   ],
   "source": [
    "print(\"Training MCC: \" + str(matthews_corrcoef(y_df['target_ind'], ada.predict(X_df))))\n",
    "print(\"Test MCC: \" + str(matthews_corrcoef(y_test['target_ind'], ada.predict(X_test))))\n",
    "print(\"Validation MCC: \" + str(matthews_corrcoef(y_val['target_ind'], ada.predict(X_val))))\n",
    "print(\"Test Acc: \" + str(ada.score(X_test, y_test['target_ind'])))"
   ]
  },
  {
   "cell_type": "code",
   "execution_count": 16,
   "metadata": {},
   "outputs": [
    {
     "name": "stdout",
     "output_type": "stream",
     "text": [
      "[[404332   7401]\n",
      " [  7160   1242]]\n"
     ]
    }
   ],
   "source": [
    "print(confusion_matrix(y_test['target_ind'], ada.predict(X_test)))"
   ]
  },
  {
   "cell_type": "markdown",
   "metadata": {},
   "source": [
    "#### Gaussian Naive Bayes"
   ]
  },
  {
   "cell_type": "code",
   "execution_count": 17,
   "metadata": {},
   "outputs": [
    {
     "data": {
      "text/plain": [
       "GaussianNB()"
      ]
     },
     "execution_count": 17,
     "metadata": {},
     "output_type": "execute_result"
    }
   ],
   "source": [
    "gnb = GaussianNB()\n",
    "gnb.fit(X_df, y_df['target_ind'])"
   ]
  },
  {
   "cell_type": "code",
   "execution_count": 18,
   "metadata": {},
   "outputs": [
    {
     "name": "stdout",
     "output_type": "stream",
     "text": [
      "Training MCC: 0.16685748071357595\n",
      "Test MCC: 0.0651466060571797\n",
      "Validation MCC: 0.060537939496191635\n",
      "Test Acc: 0.8232234876884811\n"
     ]
    }
   ],
   "source": [
    "print(\"Training MCC: \" + str(matthews_corrcoef(y_df['target_ind'], gnb.predict(X_df))))\n",
    "print(\"Test MCC: \" + str(matthews_corrcoef(y_test['target_ind'], gnb.predict(X_test))))\n",
    "print(\"Validation MCC: \" + str(matthews_corrcoef(y_val['target_ind'], gnb.predict(X_val))))\n",
    "print(\"Test Acc: \" + str(gnb.score(X_test, y_test['target_ind'])))"
   ]
  },
  {
   "cell_type": "code",
   "execution_count": 19,
   "metadata": {},
   "outputs": [
    {
     "name": "stdout",
     "output_type": "stream",
     "text": [
      "[[342992  68741]\n",
      " [  5529   2873]]\n"
     ]
    }
   ],
   "source": [
    "print(confusion_matrix(y_test['target_ind'], gnb.predict(X_test)))"
   ]
  },
  {
   "cell_type": "markdown",
   "metadata": {},
   "source": [
    "#### Dummy"
   ]
  },
  {
   "cell_type": "code",
   "execution_count": 20,
   "metadata": {},
   "outputs": [
    {
     "data": {
      "text/plain": [
       "DummyClassifier(strategy='most_frequent')"
      ]
     },
     "execution_count": 20,
     "metadata": {},
     "output_type": "execute_result"
    }
   ],
   "source": [
    "dummy_clf = DummyClassifier(strategy=\"most_frequent\")\n",
    "dummy_clf.fit(X_df, y_df['target_ind'])"
   ]
  },
  {
   "cell_type": "code",
   "execution_count": 21,
   "metadata": {},
   "outputs": [
    {
     "name": "stderr",
     "output_type": "stream",
     "text": [
      "C:\\Users\\ahmed\\anaconda3\\lib\\site-packages\\sklearn\\metrics\\_classification.py:846: RuntimeWarning: invalid value encountered in double_scalars\n",
      "  mcc = cov_ytyp / np.sqrt(cov_ytyt * cov_ypyp)\n"
     ]
    },
    {
     "name": "stdout",
     "output_type": "stream",
     "text": [
      "Training MCC: 0.0\n",
      "Test MCC: 0.0\n",
      "Validation MCC: 0.0\n",
      "Test Acc: 0.9800016661311245\n"
     ]
    }
   ],
   "source": [
    "print(\"Training MCC: \" + str(matthews_corrcoef(y_df['target_ind'], dummy_clf.predict(X_df))))\n",
    "print(\"Test MCC: \" + str(matthews_corrcoef(y_test['target_ind'], dummy_clf.predict(X_test))))\n",
    "print(\"Validation MCC: \" + str(matthews_corrcoef(y_val['target_ind'], dummy_clf.predict(X_val))))\n",
    "print(\"Test Acc: \" + str(dummy_clf.score(X_test, y_test['target_ind'])))"
   ]
  },
  {
   "cell_type": "code",
   "execution_count": 27,
   "metadata": {},
   "outputs": [],
   "source": [
    "pickle.dump( knn, open( \"knn.p\", \"wb\" ) )\n",
    "pickle.dump( rf, open( \"rf.p\", \"wb\" ) )\n",
    "pickle.dump( rfc, open( \"rfc.p\", \"wb\" ) )\n",
    "pickle.dump( ada, open( \"ada.p\", \"wb\" ) )\n",
    "pickle.dump( gnb, open( \"gnb.p\", \"wb\" ) )\n",
    "pickle.dump( dummy_clf, open( \"dummy_clf.p\", \"wb\" ) )\n",
    "X_df.to_csv('X_df.csv', index=False)\n",
    "y_df.to_csv('y_df.csv', index=False)"
   ]
  },
  {
   "cell_type": "code",
   "execution_count": null,
   "metadata": {},
   "outputs": [],
   "source": []
  }
 ],
 "metadata": {
  "kernelspec": {
   "display_name": "Python 3",
   "language": "python",
   "name": "python3"
  },
  "language_info": {
   "codemirror_mode": {
    "name": "ipython",
    "version": 3
   },
   "file_extension": ".py",
   "mimetype": "text/x-python",
   "name": "python",
   "nbconvert_exporter": "python",
   "pygments_lexer": "ipython3",
   "version": "3.7.9"
  }
 },
 "nbformat": 4,
 "nbformat_minor": 4
}
